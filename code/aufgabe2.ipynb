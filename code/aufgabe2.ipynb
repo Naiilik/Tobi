{
 "cells": [
  {
   "cell_type": "markdown",
   "id": "f0400fe7-1e50-481d-bb7e-62f2c126d4c2",
   "metadata": {},
   "source": [
    "# Aufgabe 2 - Tiefe Einblicke ins Institut"
   ]
  },
  {
   "cell_type": "markdown",
   "id": "e59687f3-c461-4f6e-a898-d023cdc8c67c",
   "metadata": {},
   "source": [
    "Den Code immer nachvollziehbar kommentieren! Bitte beachtet, dass das Notebook von Anfang bis Ende ohne Fehler durchlaufen muss und dass die requirements.txt Datei aktualisiert wird. "
   ]
  },
  {
   "cell_type": "markdown",
   "id": "ec5f0020-55eb-4023-a883-90ac6206cfb3",
   "metadata": {},
   "source": [
    "## Teilaufgabe a): Trainings-und Testdatenset"
   ]
  },
  {
   "cell_type": "code",
   "execution_count": null,
   "id": "2c91f492-e05c-4a7f-9a1c-8674e2ed71d4",
   "metadata": {},
   "outputs": [
    {
     "name": "stdout",
     "output_type": "stream",
     "text": [
      "['./Bilder/Flur/Flur20.jpg', './Bilder/Flur/Flur21.jpg', './Bilder/Flur/Flur22.jpg', './Bilder/Flur/Flur23.jpg', './Bilder/Flur/Flur24.jpg', './Bilder/Flur/Flur25.jpg', './Bilder/Labor/Labor20.jpg', './Bilder/Labor/Labor21.jpg', './Bilder/Labor/Labor22.jpg', './Bilder/Labor/Labor23.jpg', './Bilder/Labor/Labor24.jpg', './Bilder/Labor/Labor25.jpg', './Bilder/Professorkueche/Professorkueche20.jpg', './Bilder/Professorkueche/Professorkueche21.jpg', './Bilder/Professorkueche/Professorkueche22.jpg', './Bilder/Professorkueche/Professorkueche23.jpg', './Bilder/Professorkueche/Professorkueche24.jpg', './Bilder/Professorkueche/Professorkueche25.jpg', './Bilder/Teekueche/Teekueche20.jpg', './Bilder/Teekueche/Teekueche21.jpg', './Bilder/Teekueche/Teekueche22.jpg', './Bilder/Teekueche/Teekueche23.jpg', './Bilder/Teekueche/Teekueche24.jpg', './Bilder/Teekueche/Teekueche25.jpg']\n"
     ]
    }
   ],
   "source": [
    "from PIL import Image\n",
    "import numpy as np\n",
    "\n",
    "training_path_list = []  # [\"./pfad/zu/bildA.png\",\"./pfad/zu/bildB.png\",...]\n",
    "test_path_list = []  # [\"./pfad/zu/bildC.png\",\"./pfad/zu/bildD.png\",...]\n",
    "\n",
    "def training_list():\n",
    "    for i in range(20):\n",
    "        training_path_list.append(f\"./Bilder/Flur/Flur{i+1}.jpg\")\n",
    "    for i in range(20):\n",
    "        training_path_list.append(f\"./Bilder/Labor/Labor{i+1}.jpg\")\n",
    "    for i in range(20):\n",
    "        training_path_list.append(f\"./Bilder/Professorkueche/Professorkueche{i+1}.jpg\")\n",
    "    for i in range(20):\n",
    "        training_path_list.append(f\"./Bilder/Teekueche/Teekueche{i+1}.jpg\")\n",
    "\n",
    "def test_list():\n",
    "    for i in range(6):\n",
    "        test_path_list.append(f\"./Bilder/Flur/Flur{i+20}.jpg\")\n",
    "    for i in range(6):\n",
    "        test_path_list.append(f\"./Bilder/Labor/Labor{i+20}.jpg\")\n",
    "    for i in range(6):\n",
    "        test_path_list.append(f\"./Bilder/Professorkueche/Professorkueche{i+20}.jpg\")\n",
    "    for i in range(6):\n",
    "        test_path_list.append(f\"./Bilder/Teekueche/Teekueche{i+20}.jpg\")\n",
    "\n",
    "training_list()\n",
    "test_list()\n",
    "print(test_path_list)\n",
    "\n",
    "try:\n",
    "    image = Image.open(training_path_list[0])\n",
    "except:\n",
    "    raise ValueError(\"Ihr müsst einmal dieses Lageplan.png bei /usr/lageplan.png einfügen\")\n",
    "\n",
    "    "
   ]
  },
  {
   "cell_type": "code",
   "execution_count": null,
   "id": "16035e2d-da53-4747-a023-5d10a1015fa7",
   "metadata": {},
   "outputs": [
    {
     "name": "stdout",
     "output_type": "stream",
     "text": [
      "Hallo, ich bin ein Beispielskript, das die Pfade zu Trainings- und Testbildern enthält.\n"
     ]
    }
   ],
   "source": []
  },
  {
   "cell_type": "code",
   "execution_count": null,
   "id": "056389b7",
   "metadata": {},
   "outputs": [],
   "source": []
  },
  {
   "cell_type": "markdown",
   "id": "b16c6c68-033e-4d57-ba02-fc86c53f34f1",
   "metadata": {},
   "source": [
    "## Teilaufgabe b): Verteilung RGB"
   ]
  },
  {
   "cell_type": "code",
   "execution_count": null,
   "id": "3f484794-3ab2-4edf-84e4-8debf29b1d57",
   "metadata": {},
   "outputs": [],
   "source": []
  },
  {
   "cell_type": "markdown",
   "id": "2bb17fba-193f-4873-a631-7a902bb54675",
   "metadata": {},
   "source": [
    "## Teilaufgabe c): Training und Test mit Random Forest "
   ]
  },
  {
   "cell_type": "code",
   "execution_count": null,
   "id": "9569d171-6ea9-4a8d-8c88-80210669ef7e",
   "metadata": {},
   "outputs": [],
   "source": []
  },
  {
   "cell_type": "markdown",
   "id": "51e14a88-cf54-40a0-b118-05e243e0b995",
   "metadata": {
    "tags": []
   },
   "source": [
    "## Teilaufgabe d): Hyperparameteroptimierung"
   ]
  },
  {
   "cell_type": "code",
   "execution_count": null,
   "id": "65263759-2c02-43f0-b756-c8f8ad77b75e",
   "metadata": {},
   "outputs": [],
   "source": []
  },
  {
   "cell_type": "markdown",
   "id": "ba0cffb4-b4dd-4df8-b7d5-f2f98c8a698b",
   "metadata": {
    "tags": []
   },
   "source": [
    "## Teilaufgabe e): Dimensionalitätsreduktion"
   ]
  },
  {
   "cell_type": "code",
   "execution_count": null,
   "id": "4a72c1da-07de-4252-a4a9-b373918b1cf2",
   "metadata": {},
   "outputs": [],
   "source": []
  }
 ],
 "metadata": {
  "kernelspec": {
   "display_name": ".venv",
   "language": "python",
   "name": "python3"
  },
  "language_info": {
   "codemirror_mode": {
    "name": "ipython",
    "version": 3
   },
   "file_extension": ".py",
   "mimetype": "text/x-python",
   "name": "python",
   "nbconvert_exporter": "python",
   "pygments_lexer": "ipython3",
   "version": "3.13.5"
  }
 },
 "nbformat": 4,
 "nbformat_minor": 5
}
