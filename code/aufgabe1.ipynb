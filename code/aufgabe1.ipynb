{
 "cells": [
  {
   "cell_type": "markdown",
   "id": "f0400fe7-1e50-481d-bb7e-62f2c126d4c2",
   "metadata": {},
   "source": [
    "# Aufgabe 1 - Akku-Abenteuer: Tobi's Optimale Routenplanung"
   ]
  },
  {
   "cell_type": "markdown",
   "id": "e59687f3-c461-4f6e-a898-d023cdc8c67c",
   "metadata": {},
   "source": [
    "Den Code immer nachvollziehbar kommentieren! Bitte beachtet, dass das Notebook von Anfang bis Ende ohne Fehler durchlaufen muss und dass die requirements.txt Datei aktualisiert wird. "
   ]
  },
  {
   "cell_type": "markdown",
   "id": "ec5f0020-55eb-4023-a883-90ac6206cfb3",
   "metadata": {},
   "source": [
    "## Teilaufgabe a): lageplan.png laden und verarbeiten"
   ]
  },
  {
   "cell_type": "code",
   "execution_count": null,
   "id": "2c91f492-e05c-4a7f-9a1c-8674e2ed71d4",
   "metadata": {},
   "outputs": [],
   "source": [
    "from PIL import Image\n",
    "import numpy as np\n",
    "\n",
    "# Klassische Klasse für Nodes. Nodes haben einfach ne position, farbe und Liste an Nachbarn\n",
    "class Node:\n",
    "    def __init__(self, position: tuple[int, int], color: str):\n",
    "        self.position = position\n",
    "        self.color = color\n",
    "        self.neighbors = []\n",
    "\n",
    "    #Funktion um Nachbarn hinzuzufügen\n",
    "    def add_neighbor(self, neighbor_node: 'Node'):\n",
    "        if neighbor_node not in self.neighbors:\n",
    "            self.neighbors.append(neighbor_node)\n",
    "\n",
    "    #Damit ich abchecken kann, dass alles richtig läuft yeah\n",
    "    def __repr__(self):\n",
    "        return f\"Node(pos={self.position}, color={self.color})\"\n",
    "    \n",
    "\n",
    "# Lade das Bild und erstelle ein Array aus den Pixeln und eine 21x21 Null-Matrix, welche wir anschließend füllen\n",
    "try:\n",
    "    image = Image.open(\"/usr/lageplan.png\")\n",
    "except:\n",
    "    raise ValueError(\"Ihr müsst einmal dieses Lageplan.png bei /usr/lageplan.png einfügen\")\n",
    "\n",
    "\n",
    "image_array = np.array(image)\n",
    "matrix = np.zeros((21, 21), dtype=object)\n",
    "\n",
    "# Geht alle Kästchen durch und erstellt daraus eine Matrix mit den Farben\n",
    "for i in range(10, image.size[0], 20):\n",
    "    for j in range(10, image.size[1], 20):\n",
    "        row = int((i - 10) / 20)\n",
    "        collumn = int((j - 10) / 20)\n",
    "        if image_array[j, i][0] == image_array[j, i][1] == image_array[j, i][2] == 255:\n",
    "            matrix[row, collumn] = \"white\"\n",
    "        if image_array[j, i][0] == image_array[j, i][1] == image_array[j, i][2] == 0:\n",
    "            matrix[row, collumn] = \"black\"\n",
    "        if (image_array[j, i][0] == image_array[j, i][2] == 0) and image_array[j, i][1] == 255:\n",
    "            matrix[row, collumn] = \"green\"\n",
    "        if (image_array[j, i][0] == image_array[j, i][1] == 0) and image_array[j, i][2] == 255:\n",
    "            matrix[row, collumn] = \"blue\"\n",
    "        if (image_array[j, i][0] == image_array[j, i][1] == 255) and image_array[j, i][2] == 0:\n",
    "            matrix[row, collumn] = \"yellow\"\n",
    "        if image_array[j, i][0] == 200 and image_array[j, i][1] == 113 and image_array[j, i][2] == 55:\n",
    "            matrix[row, collumn] = \"brown\"\n",
    "\n",
    "matrix = np.array(matrix)\n",
    "\n",
    "#Gott steh uns bei\n",
    "# Hier werden alle Einträge zu Nodes gemacht, damit später die Suchverfahren leichter werden\n",
    "matrix = [ [ Node((x,y),element) for (y,element) in enumerate(zeile)] for (x,zeile) in enumerate(matrix)]\n",
    "\n",
    "# Hier werden die Nachbarn zu jedem Element hinzugefügt (außer zum Rand, da kann Tobi aber eh nie hin also passt schon)\n",
    "for zeile in matrix:\n",
    "  for node in zeile:\n",
    "    neighbours = []\n",
    "    if(node.position[0]!=0 and node.position[1]!=0 and node.position[0]!=20 and node.position[1]!=20): #Alle Nachbarn kommen in ne Liste\n",
    "      neighbours = [matrix[node.position[0]-x][node.position[1]] for x in [-1,1]] + [matrix[node.position[0]][node.position[1]-y] for y in [-1,1]]\n",
    "    for neighbor in neighbours: # Die Liste an Nachbarn wird der Node hinzugefügt (solange der Nachbar keine Wand ist)\n",
    "      if(neighbor.color != \"black\"):\n",
    "        node.add_neighbor(neighbor)"
   ]
  },
  {
   "cell_type": "markdown",
   "id": "b16c6c68-033e-4d57-ba02-fc86c53f34f1",
   "metadata": {},
   "source": [
    "## Teilaufgabe b): Breitensuche"
   ]
  },
  {
   "cell_type": "code",
   "execution_count": null,
   "id": "3f484794-3ab2-4edf-84e4-8debf29b1d57",
   "metadata": {},
   "outputs": [],
   "source": []
  },
  {
   "cell_type": "markdown",
   "id": "2bb17fba-193f-4873-a631-7a902bb54675",
   "metadata": {},
   "source": [
    "## Teilaufgabe c): A*-Algorithmus"
   ]
  },
  {
   "cell_type": "code",
   "execution_count": null,
   "id": "9569d171-6ea9-4a8d-8c88-80210669ef7e",
   "metadata": {},
   "outputs": [],
   "source": []
  },
  {
   "cell_type": "markdown",
   "id": "51e14a88-cf54-40a0-b118-05e243e0b995",
   "metadata": {
    "tags": []
   },
   "source": [
    "## Teilaufgabe d): Greedy Best First Search-Algorithmus"
   ]
  },
  {
   "cell_type": "code",
   "execution_count": null,
   "id": "65263759-2c02-43f0-b756-c8f8ad77b75e",
   "metadata": {},
   "outputs": [],
   "source": []
  },
  {
   "cell_type": "markdown",
   "id": "ba0cffb4-b4dd-4df8-b7d5-f2f98c8a698b",
   "metadata": {
    "tags": []
   },
   "source": [
    "## Teilaufgabe e): Dusseliger Doktorand"
   ]
  },
  {
   "cell_type": "code",
   "execution_count": null,
   "id": "4a72c1da-07de-4252-a4a9-b373918b1cf2",
   "metadata": {},
   "outputs": [],
   "source": []
  }
 ],
 "metadata": {
  "kernelspec": {
   "display_name": "Python 3 (ipykernel)",
   "language": "python",
   "name": "python3"
  },
  "language_info": {
   "codemirror_mode": {
    "name": "ipython",
    "version": 3
   },
   "file_extension": ".py",
   "mimetype": "text/x-python",
   "name": "python",
   "nbconvert_exporter": "python",
   "pygments_lexer": "ipython3",
   "version": "3.10.8"
  }
 },
 "nbformat": 4,
 "nbformat_minor": 5
}
